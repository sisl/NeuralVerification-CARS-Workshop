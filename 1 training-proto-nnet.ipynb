{
 "cells": [
  {
   "cell_type": "markdown",
   "metadata": {},
   "source": [
    "# Intro"
   ]
  },
  {
   "cell_type": "markdown",
   "metadata": {},
   "source": [
    "This notebook serves as a tiny example on how to train a DNN using TensorFlow and export to the NNet format that NeuralVerification.jl can parse."
   ]
  },
  {
   "cell_type": "markdown",
   "metadata": {},
   "source": [
    "# Requirements"
   ]
  },
  {
   "cell_type": "markdown",
   "metadata": {},
   "source": [
    "Before we begin make sure your environment satisfies the requirements specified in `requirements.txt`, the easiest way is to create a new virtualenv and run:\n",
    "\n",
    "`pip install -r requirements.txt`\n",
    "\n",
    "then you can go ahead and run the following cells, for this make sure that your jupyter notebook is using the kernel corresponding to the virtualenv you just created (Chris: should I expand on this?)"
   ]
  },
  {
   "cell_type": "markdown",
   "metadata": {},
   "source": [
    "# imports needed"
   ]
  },
  {
   "cell_type": "code",
   "execution_count": null,
   "metadata": {},
   "outputs": [],
   "source": [
    "from tensorflow.examples.tutorials.mnist import input_data\n",
    "import tensorflow as tf\n",
    "import math\n",
    "import numpy as np"
   ]
  },
  {
   "cell_type": "markdown",
   "metadata": {},
   "source": [
    "# fetch and load the data"
   ]
  },
  {
   "cell_type": "code",
   "execution_count": null,
   "metadata": {},
   "outputs": [],
   "source": [
    "mnist = input_data.read_data_sets('./mnist_data')\n",
    "model_name = \"mnist_network\""
   ]
  },
  {
   "cell_type": "markdown",
   "metadata": {},
   "source": [
    "# define auxiliary functions"
   ]
  },
  {
   "cell_type": "code",
   "execution_count": null,
   "metadata": {},
   "outputs": [],
   "source": [
    "def weight_variable(shape):\n",
    "    initial = tf.truncated_normal(shape, stddev=0.1)\n",
    "    return tf.Variable(initial)\n",
    "\n",
    "def bias_variable(shape):\n",
    "    initial = tf.constant(0.1, shape=shape)\n",
    "    return tf.Variable(initial)"
   ]
  },
  {
   "cell_type": "markdown",
   "metadata": {},
   "source": [
    "# define the TF variables"
   ]
  },
  {
   "cell_type": "code",
   "execution_count": null,
   "metadata": {},
   "outputs": [],
   "source": [
    "INPUT = 784 # mnist images are 28 x 28 = 784 pixels\n",
    "OUTPUT = 10 # there are 10 possible classes for each image (0-9 digits)\n",
    "HFC = 50 # hidden layer size\n",
    "\n",
    "# placeholder used to feed in the input, it is very important to explicitly name\n",
    "# which will enable the script that generates the nnet file from the protobuffer\n",
    "# to identify the relevant part of the computational graph\n",
    "\n",
    "x_in = tf.placeholder(tf.float32, [None, INPUT], name='input_op')\n",
    "\n",
    "W_fc = weight_variable([INPUT, HFC])\n",
    "b_fc = bias_variable([HFC])\n",
    "\n",
    "W_fc1 = weight_variable([HFC, HFC])\n",
    "b_fc1 = bias_variable([HFC])\n",
    "\n",
    "#W_fc2 = weight_variable([HFC, HFC])\n",
    "#b_fc2 = bias_variable([HFC])\n",
    "\n",
    "#W_fc3 = weight_variable([HFC, HFC])\n",
    "#b_fc3 = bias_variable([HFC])\n",
    "\n",
    "#W_fc4 = weight_variable([HFC, HFC])\n",
    "#b_fc4 = bias_variable([HFC])\n",
    "\n",
    "#W_fc5 = weight_variable([HFC, HFC])\n",
    "#b_fc5 = bias_variable([HFC])\n",
    "\n",
    "\n",
    "W_o = weight_variable([HFC, OUTPUT])\n",
    "b_o = bias_variable([OUTPUT])\n",
    "\n",
    "#\n",
    "x_image = tf.reshape(x_in, [-1, int(math.sqrt(INPUT)), int(math.sqrt(INPUT)), 1])"
   ]
  },
  {
   "cell_type": "markdown",
   "metadata": {},
   "source": [
    "# define the network"
   ]
  },
  {
   "cell_type": "code",
   "execution_count": null,
   "metadata": {},
   "outputs": [],
   "source": [
    "h_fc = tf.nn.relu(tf.add(tf.matmul(x_in, W_fc), b_fc))\n",
    "h_fc1 = tf.nn.relu(tf.add(tf.matmul(h_fc, W_fc1), b_fc1))\n",
    "#h_fc2 = tf.nn.relu(tf.add(tf.matmul(h_fc1, W_fc2), b_fc2))\n",
    "#h_fc3 = tf.nn.relu(tf.add(tf.matmul(h_fc2, W_fc3), b_fc3))\n",
    "#h_fc4 = tf.nn.relu(tf.add(tf.matmul(h_fc3, W_fc4), b_fc4))\n",
    "#h_fc5 = tf.nn.relu(tf.add(tf.matmul(h_fc4, W_fc5), b_fc5))\n",
    "y = tf.add(tf.matmul(h_fc1, W_o), b_o, name=\"output_op\")\n"
   ]
  },
  {
   "cell_type": "markdown",
   "metadata": {},
   "source": [
    "# defining the loss and optimizer"
   ]
  },
  {
   "cell_type": "code",
   "execution_count": null,
   "metadata": {},
   "outputs": [],
   "source": [
    "y_ = tf.placeholder(tf.int64, [None])\n",
    "cross_entropy = tf.losses.sparse_softmax_cross_entropy(labels=y_, logits=y)\n",
    "train_step = tf.train.AdamOptimizer(0.0001).minimize(cross_entropy)"
   ]
  },
  {
   "cell_type": "code",
   "execution_count": null,
   "metadata": {},
   "outputs": [],
   "source": [
    "epochs = 10 # epochs for training\n",
    "batch_size = 64 # batch size\n",
    "\n",
    "N = mnist.train.num_examples\n",
    "batch_amount = epochs*N//batch_size"
   ]
  },
  {
   "cell_type": "markdown",
   "metadata": {},
   "source": [
    "# Train and save protobuffer"
   ]
  },
  {
   "cell_type": "code",
   "execution_count": null,
   "metadata": {},
   "outputs": [],
   "source": [
    "epochs = 10 # epochs for training\n",
    "batch_size = 50 # batch size\n",
    "\n",
    "N = mnist.train.num_examples\n",
    "batch_amount = epochs*N//batch_size\n",
    "\n",
    "with tf.Session() as sess:\n",
    "    epoch_in = 1\n",
    "    tf.global_variables_initializer().run()\n",
    "    for i in range(batch_amount):\n",
    "        batch_xs, batch_ys = mnist.train.next_batch(batch_size)\n",
    "        sess.run(train_step, feed_dict={x_in: batch_xs, y_: batch_ys})\n",
    "        if (i*batch_size) % N == 0:\n",
    "            #print('loss> {}'.format(sess.run(cross_entropy, feed_dict={x_in: batch_xs, y_: batch_ys})))\n",
    "            print(\"Epoch {} done.\".format(epoch_in))\n",
    "            epoch_in += 1\n",
    "        \n",
    "    correct_prediction = tf.equal(tf.argmax(y, 1), y_)\n",
    "    accuracy = tf.reduce_mean(tf.cast(correct_prediction, tf.float32))\n",
    "\n",
    "    print(\"Accuracy: {}\".format(sess.run(accuracy, feed_dict={x_in: mnist.test.images, y_: mnist.test.labels})))\n",
    "    output_graph_def = tf.graph_util.convert_variables_to_constants(sess, tf.get_default_graph().as_graph_def(), ['output_op']) \n",
    "    \n",
    "    #saver = tf.train.Saver()\n",
    "    #save_path = saver.save(sess, 'models/'+model_name+'.ckpt')\n",
    "    with tf.gfile.GFile('models/' + model_name+'.pb', \"wb\") as f:\n",
    "        f.write(output_graph_def.SerializeToString())"
   ]
  },
  {
   "cell_type": "markdown",
   "metadata": {},
   "source": [
    "# Now let's convert the protobuffer to NNet format"
   ]
  },
  {
   "cell_type": "code",
   "execution_count": null,
   "metadata": {},
   "outputs": [],
   "source": [
    "!python ./NNet/scripts/pb2nnet.py"
   ]
  }
 ],
 "metadata": {
  "kernelspec": {
   "display_name": "NV2",
   "language": "python",
   "name": "nv2"
  },
  "language_info": {
   "codemirror_mode": {
    "name": "ipython",
    "version": 3
   },
   "file_extension": ".py",
   "mimetype": "text/x-python",
   "name": "python",
   "nbconvert_exporter": "python",
   "pygments_lexer": "ipython3",
   "version": "3.7.4"
  }
 },
 "nbformat": 4,
 "nbformat_minor": 2
}
