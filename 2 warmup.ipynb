{
 "cells": [
  {
   "cell_type": "markdown",
   "metadata": {},
   "source": [
    "# Warm up example\n",
    "\n",
    "This notebook is intended to walk through some of the basics of NeuralVerification.jl and to serve as a quick-start example"
   ]
  },
  {
   "cell_type": "code",
   "execution_count": 1,
   "metadata": {},
   "outputs": [],
   "source": [
    "using NeuralVerification, LazySets"
   ]
  },
  {
   "cell_type": "markdown",
   "metadata": {},
   "source": [
    "### NNET files\n",
    "\n",
    "First thing is first: to verify a network, we need to *have* a network. We can read a network from a .nnet file using the `read_nnet` function. \n",
    "\n",
    "In this notebook we will look at the file \"small_nnet_id.nnet\", which has two hidden layers with two nodes each. Let's first read the file as text to see what it looks like."
   ]
  },
  {
   "cell_type": "code",
   "execution_count": 2,
   "metadata": {},
   "outputs": [
    {
     "name": "stdout",
     "output_type": "stream",
     "text": [
      "3\n",
      "1, 2, 2, 1\n",
      "0\n",
      "0\n",
      "0\n",
      "0\n",
      "0\n",
      "1\n",
      "1\n",
      "1.5\n",
      "1.5\n",
      "2, 2\n",
      "2, 2\n",
      "2.5\n",
      "2.5\n",
      "-3, -3\n",
      "3.5\n",
      "\n"
     ]
    }
   ],
   "source": [
    "println(read(\"models/small_nnet_id.nnet\", String))"
   ]
  },
  {
   "cell_type": "markdown",
   "metadata": {},
   "source": [
    "Above we see the exact contents of the .nnet file at text. The first line is how many layers are in the network (2 hidden plus the input makes 3). The next line tells the input size of each layer, as well as the output size of the network (1). The following rows with zeros do nothing usually and are skipped in parsing. After that are listed the weights and biases of each layer.\n",
    "\n",
    "We can parse this text file into a `Network` object using `read_nnet`. It is also possible to create Networks by putting together a series of `Layer`s manually. For an example of that, see the [visualverification](visualverification.ipynb) notebook."
   ]
  },
  {
   "cell_type": "code",
   "execution_count": 3,
   "metadata": {},
   "outputs": [
    {
     "data": {
      "text/plain": [
       "3-element Array{NeuralVerification.Layer,1}:\n",
       " NeuralVerification.Layer{NeuralVerification.ReLU,Float64}([1.0; 1.0], [1.5, 1.5], NeuralVerification.ReLU())        \n",
       " NeuralVerification.Layer{NeuralVerification.ReLU,Float64}([2.0 2.0; 2.0 2.0], [2.5, 2.5], NeuralVerification.ReLU())\n",
       " NeuralVerification.Layer{NeuralVerification.Id,Float64}([-3.0 -3.0], [3.5], NeuralVerification.Id())                "
      ]
     },
     "execution_count": 3,
     "metadata": {},
     "output_type": "execute_result"
    }
   ],
   "source": [
    "net = read_nnet(\"models/small_nnet_id.nnet\")\n",
    "\n",
    "net.layers"
   ]
  },
  {
   "cell_type": "markdown",
   "metadata": {},
   "source": [
    "Note in the list of layers above that each layer has an activation function associated with it. The first two have `NeuralVerification.ReLU()` as their activation and the last one has `NeuralVerification.Id()` (identity). It is an assumption of the .nnet format that all layers except the output are ReLU layers. In order to create layers with different activation types, it is necessary at the moment to do so manually with the `Layer` constructor.\n",
    "\n",
    "Now that we have a network, and that network is conveniently a 1D to 1D mapping, let's see what it encodes:"
   ]
  },
  {
   "cell_type": "code",
   "execution_count": 22,
   "metadata": {},
   "outputs": [
    {
     "data": {
      "image/svg+xml": [
       "<?xml version=\"1.0\" encoding=\"utf-8\"?>\n",
       "<svg xmlns=\"http://www.w3.org/2000/svg\" xmlns:xlink=\"http://www.w3.org/1999/xlink\" width=\"400\" height=\"300\" viewBox=\"0 0 1600 1200\">\n",
       "<defs>\n",
       "  <clipPath id=\"clip6400\">\n",
       "    <rect x=\"0\" y=\"0\" width=\"2000\" height=\"2000\"/>\n",
       "  </clipPath>\n",
       "</defs>\n",
       "<defs>\n",
       "  <clipPath id=\"clip6401\">\n",
       "    <rect x=\"0\" y=\"0\" width=\"1600\" height=\"1200\"/>\n",
       "  </clipPath>\n",
       "</defs>\n",
       "<polygon clip-path=\"url(#clip6401)\" points=\"\n",
       "0,1200 1600,1200 1600,0 0,0 \n",
       "  \" fill=\"#ffffff\" fill-rule=\"evenodd\" fill-opacity=\"1\"/>\n",
       "<defs>\n",
       "  <clipPath id=\"clip6402\">\n",
       "    <rect x=\"320\" y=\"0\" width=\"1121\" height=\"1121\"/>\n",
       "  </clipPath>\n",
       "</defs>\n",
       "<polygon clip-path=\"url(#clip6401)\" points=\"\n",
       "202.885,1099.28 1521.26,1099.28 1521.26,47.2441 202.885,47.2441 \n",
       "  \" fill=\"#ffffff\" fill-rule=\"evenodd\" fill-opacity=\"1\"/>\n",
       "<defs>\n",
       "  <clipPath id=\"clip6403\">\n",
       "    <rect x=\"202\" y=\"47\" width=\"1319\" height=\"1053\"/>\n",
       "  </clipPath>\n",
       "</defs>\n",
       "<polyline clip-path=\"url(#clip6403)\" style=\"stroke:#000000; stroke-width:2; stroke-opacity:0.1; fill:none\" points=\"\n",
       "  240.198,1099.28 240.198,47.2441 \n",
       "  \"/>\n",
       "<polyline clip-path=\"url(#clip6403)\" style=\"stroke:#000000; stroke-width:2; stroke-opacity:0.1; fill:none\" points=\"\n",
       "  551.135,1099.28 551.135,47.2441 \n",
       "  \"/>\n",
       "<polyline clip-path=\"url(#clip6403)\" style=\"stroke:#000000; stroke-width:2; stroke-opacity:0.1; fill:none\" points=\"\n",
       "  862.073,1099.28 862.073,47.2441 \n",
       "  \"/>\n",
       "<polyline clip-path=\"url(#clip6403)\" style=\"stroke:#000000; stroke-width:2; stroke-opacity:0.1; fill:none\" points=\"\n",
       "  1173.01,1099.28 1173.01,47.2441 \n",
       "  \"/>\n",
       "<polyline clip-path=\"url(#clip6403)\" style=\"stroke:#000000; stroke-width:2; stroke-opacity:0.1; fill:none\" points=\"\n",
       "  1483.95,1099.28 1483.95,47.2441 \n",
       "  \"/>\n",
       "<polyline clip-path=\"url(#clip6403)\" style=\"stroke:#000000; stroke-width:2; stroke-opacity:0.1; fill:none\" points=\"\n",
       "  202.885,934.659 1521.26,934.659 \n",
       "  \"/>\n",
       "<polyline clip-path=\"url(#clip6403)\" style=\"stroke:#000000; stroke-width:2; stroke-opacity:0.1; fill:none\" points=\"\n",
       "  202.885,754.86 1521.26,754.86 \n",
       "  \"/>\n",
       "<polyline clip-path=\"url(#clip6403)\" style=\"stroke:#000000; stroke-width:2; stroke-opacity:0.1; fill:none\" points=\"\n",
       "  202.885,575.062 1521.26,575.062 \n",
       "  \"/>\n",
       "<polyline clip-path=\"url(#clip6403)\" style=\"stroke:#000000; stroke-width:2; stroke-opacity:0.1; fill:none\" points=\"\n",
       "  202.885,395.263 1521.26,395.263 \n",
       "  \"/>\n",
       "<polyline clip-path=\"url(#clip6403)\" style=\"stroke:#000000; stroke-width:2; stroke-opacity:0.1; fill:none\" points=\"\n",
       "  202.885,215.464 1521.26,215.464 \n",
       "  \"/>\n",
       "<polyline clip-path=\"url(#clip6401)\" style=\"stroke:#000000; stroke-width:4; stroke-opacity:1; fill:none\" points=\"\n",
       "  202.885,1099.28 1521.26,1099.28 \n",
       "  \"/>\n",
       "<polyline clip-path=\"url(#clip6401)\" style=\"stroke:#000000; stroke-width:4; stroke-opacity:1; fill:none\" points=\"\n",
       "  202.885,1099.28 202.885,47.2441 \n",
       "  \"/>\n",
       "<polyline clip-path=\"url(#clip6401)\" style=\"stroke:#000000; stroke-width:4; stroke-opacity:1; fill:none\" points=\"\n",
       "  240.198,1099.28 240.198,1083.5 \n",
       "  \"/>\n",
       "<polyline clip-path=\"url(#clip6401)\" style=\"stroke:#000000; stroke-width:4; stroke-opacity:1; fill:none\" points=\"\n",
       "  551.135,1099.28 551.135,1083.5 \n",
       "  \"/>\n",
       "<polyline clip-path=\"url(#clip6401)\" style=\"stroke:#000000; stroke-width:4; stroke-opacity:1; fill:none\" points=\"\n",
       "  862.073,1099.28 862.073,1083.5 \n",
       "  \"/>\n",
       "<polyline clip-path=\"url(#clip6401)\" style=\"stroke:#000000; stroke-width:4; stroke-opacity:1; fill:none\" points=\"\n",
       "  1173.01,1099.28 1173.01,1083.5 \n",
       "  \"/>\n",
       "<polyline clip-path=\"url(#clip6401)\" style=\"stroke:#000000; stroke-width:4; stroke-opacity:1; fill:none\" points=\"\n",
       "  1483.95,1099.28 1483.95,1083.5 \n",
       "  \"/>\n",
       "<polyline clip-path=\"url(#clip6401)\" style=\"stroke:#000000; stroke-width:4; stroke-opacity:1; fill:none\" points=\"\n",
       "  202.885,934.659 222.661,934.659 \n",
       "  \"/>\n",
       "<polyline clip-path=\"url(#clip6401)\" style=\"stroke:#000000; stroke-width:4; stroke-opacity:1; fill:none\" points=\"\n",
       "  202.885,754.86 222.661,754.86 \n",
       "  \"/>\n",
       "<polyline clip-path=\"url(#clip6401)\" style=\"stroke:#000000; stroke-width:4; stroke-opacity:1; fill:none\" points=\"\n",
       "  202.885,575.062 222.661,575.062 \n",
       "  \"/>\n",
       "<polyline clip-path=\"url(#clip6401)\" style=\"stroke:#000000; stroke-width:4; stroke-opacity:1; fill:none\" points=\"\n",
       "  202.885,395.263 222.661,395.263 \n",
       "  \"/>\n",
       "<polyline clip-path=\"url(#clip6401)\" style=\"stroke:#000000; stroke-width:4; stroke-opacity:1; fill:none\" points=\"\n",
       "  202.885,215.464 222.661,215.464 \n",
       "  \"/>\n",
       "<g clip-path=\"url(#clip6401)\">\n",
       "<text style=\"fill:#000000; fill-opacity:1; font-family:Arial,Helvetica Neue,Helvetica,sans-serif; font-size:48px; text-anchor:middle;\" transform=\"rotate(0, 240.198, 1149.28)\" x=\"240.198\" y=\"1149.28\">-10</text>\n",
       "</g>\n",
       "<g clip-path=\"url(#clip6401)\">\n",
       "<text style=\"fill:#000000; fill-opacity:1; font-family:Arial,Helvetica Neue,Helvetica,sans-serif; font-size:48px; text-anchor:middle;\" transform=\"rotate(0, 551.135, 1149.28)\" x=\"551.135\" y=\"1149.28\">-5</text>\n",
       "</g>\n",
       "<g clip-path=\"url(#clip6401)\">\n",
       "<text style=\"fill:#000000; fill-opacity:1; font-family:Arial,Helvetica Neue,Helvetica,sans-serif; font-size:48px; text-anchor:middle;\" transform=\"rotate(0, 862.073, 1149.28)\" x=\"862.073\" y=\"1149.28\">0</text>\n",
       "</g>\n",
       "<g clip-path=\"url(#clip6401)\">\n",
       "<text style=\"fill:#000000; fill-opacity:1; font-family:Arial,Helvetica Neue,Helvetica,sans-serif; font-size:48px; text-anchor:middle;\" transform=\"rotate(0, 1173.01, 1149.28)\" x=\"1173.01\" y=\"1149.28\">5</text>\n",
       "</g>\n",
       "<g clip-path=\"url(#clip6401)\">\n",
       "<text style=\"fill:#000000; fill-opacity:1; font-family:Arial,Helvetica Neue,Helvetica,sans-serif; font-size:48px; text-anchor:middle;\" transform=\"rotate(0, 1483.95, 1149.28)\" x=\"1483.95\" y=\"1149.28\">10</text>\n",
       "</g>\n",
       "<g clip-path=\"url(#clip6401)\">\n",
       "<text style=\"fill:#000000; fill-opacity:1; font-family:Arial,Helvetica Neue,Helvetica,sans-serif; font-size:48px; text-anchor:end;\" transform=\"rotate(0, 186.885, 952.159)\" x=\"186.885\" y=\"952.159\">-250</text>\n",
       "</g>\n",
       "<g clip-path=\"url(#clip6401)\">\n",
       "<text style=\"fill:#000000; fill-opacity:1; font-family:Arial,Helvetica Neue,Helvetica,sans-serif; font-size:48px; text-anchor:end;\" transform=\"rotate(0, 186.885, 772.36)\" x=\"186.885\" y=\"772.36\">-200</text>\n",
       "</g>\n",
       "<g clip-path=\"url(#clip6401)\">\n",
       "<text style=\"fill:#000000; fill-opacity:1; font-family:Arial,Helvetica Neue,Helvetica,sans-serif; font-size:48px; text-anchor:end;\" transform=\"rotate(0, 186.885, 592.562)\" x=\"186.885\" y=\"592.562\">-150</text>\n",
       "</g>\n",
       "<g clip-path=\"url(#clip6401)\">\n",
       "<text style=\"fill:#000000; fill-opacity:1; font-family:Arial,Helvetica Neue,Helvetica,sans-serif; font-size:48px; text-anchor:end;\" transform=\"rotate(0, 186.885, 412.763)\" x=\"186.885\" y=\"412.763\">-100</text>\n",
       "</g>\n",
       "<g clip-path=\"url(#clip6401)\">\n",
       "<text style=\"fill:#000000; fill-opacity:1; font-family:Arial,Helvetica Neue,Helvetica,sans-serif; font-size:48px; text-anchor:end;\" transform=\"rotate(0, 186.885, 232.964)\" x=\"186.885\" y=\"232.964\">-50</text>\n",
       "</g>\n",
       "<circle clip-path=\"url(#clip6403)\" style=\"fill:#000000; stroke:none; fill-opacity:1\" cx=\"240.198\" cy=\"77.0188\" r=\"18\"/>\n",
       "<circle clip-path=\"url(#clip6403)\" style=\"fill:#009af9; stroke:none; fill-opacity:1\" cx=\"240.198\" cy=\"77.0188\" r=\"14\"/>\n",
       "<circle clip-path=\"url(#clip6403)\" style=\"fill:#000000; stroke:none; fill-opacity:1\" cx=\"302.385\" cy=\"77.0188\" r=\"18\"/>\n",
       "<circle clip-path=\"url(#clip6403)\" style=\"fill:#009af9; stroke:none; fill-opacity:1\" cx=\"302.385\" cy=\"77.0188\" r=\"14\"/>\n",
       "<circle clip-path=\"url(#clip6403)\" style=\"fill:#000000; stroke:none; fill-opacity:1\" cx=\"364.573\" cy=\"77.0188\" r=\"18\"/>\n",
       "<circle clip-path=\"url(#clip6403)\" style=\"fill:#009af9; stroke:none; fill-opacity:1\" cx=\"364.573\" cy=\"77.0188\" r=\"14\"/>\n",
       "<circle clip-path=\"url(#clip6403)\" style=\"fill:#000000; stroke:none; fill-opacity:1\" cx=\"426.76\" cy=\"77.0188\" r=\"18\"/>\n",
       "<circle clip-path=\"url(#clip6403)\" style=\"fill:#009af9; stroke:none; fill-opacity:1\" cx=\"426.76\" cy=\"77.0188\" r=\"14\"/>\n",
       "<circle clip-path=\"url(#clip6403)\" style=\"fill:#000000; stroke:none; fill-opacity:1\" cx=\"488.948\" cy=\"77.0188\" r=\"18\"/>\n",
       "<circle clip-path=\"url(#clip6403)\" style=\"fill:#009af9; stroke:none; fill-opacity:1\" cx=\"488.948\" cy=\"77.0188\" r=\"14\"/>\n",
       "<circle clip-path=\"url(#clip6403)\" style=\"fill:#000000; stroke:none; fill-opacity:1\" cx=\"551.135\" cy=\"77.0188\" r=\"18\"/>\n",
       "<circle clip-path=\"url(#clip6403)\" style=\"fill:#009af9; stroke:none; fill-opacity:1\" cx=\"551.135\" cy=\"77.0188\" r=\"14\"/>\n",
       "<circle clip-path=\"url(#clip6403)\" style=\"fill:#000000; stroke:none; fill-opacity:1\" cx=\"613.323\" cy=\"77.0188\" r=\"18\"/>\n",
       "<circle clip-path=\"url(#clip6403)\" style=\"fill:#009af9; stroke:none; fill-opacity:1\" cx=\"613.323\" cy=\"77.0188\" r=\"14\"/>\n",
       "<circle clip-path=\"url(#clip6403)\" style=\"fill:#000000; stroke:none; fill-opacity:1\" cx=\"675.51\" cy=\"77.0188\" r=\"18\"/>\n",
       "<circle clip-path=\"url(#clip6403)\" style=\"fill:#009af9; stroke:none; fill-opacity:1\" cx=\"675.51\" cy=\"77.0188\" r=\"14\"/>\n",
       "<circle clip-path=\"url(#clip6403)\" style=\"fill:#000000; stroke:none; fill-opacity:1\" cx=\"737.698\" cy=\"77.0188\" r=\"18\"/>\n",
       "<circle clip-path=\"url(#clip6403)\" style=\"fill:#009af9; stroke:none; fill-opacity:1\" cx=\"737.698\" cy=\"77.0188\" r=\"14\"/>\n",
       "<circle clip-path=\"url(#clip6403)\" style=\"fill:#000000; stroke:none; fill-opacity:1\" cx=\"799.885\" cy=\"120.171\" r=\"18\"/>\n",
       "<circle clip-path=\"url(#clip6403)\" style=\"fill:#009af9; stroke:none; fill-opacity:1\" cx=\"799.885\" cy=\"120.171\" r=\"14\"/>\n",
       "<circle clip-path=\"url(#clip6403)\" style=\"fill:#000000; stroke:none; fill-opacity:1\" cx=\"862.073\" cy=\"206.474\" r=\"18\"/>\n",
       "<circle clip-path=\"url(#clip6403)\" style=\"fill:#009af9; stroke:none; fill-opacity:1\" cx=\"862.073\" cy=\"206.474\" r=\"14\"/>\n",
       "<circle clip-path=\"url(#clip6403)\" style=\"fill:#000000; stroke:none; fill-opacity:1\" cx=\"924.26\" cy=\"292.777\" r=\"18\"/>\n",
       "<circle clip-path=\"url(#clip6403)\" style=\"fill:#009af9; stroke:none; fill-opacity:1\" cx=\"924.26\" cy=\"292.777\" r=\"14\"/>\n",
       "<circle clip-path=\"url(#clip6403)\" style=\"fill:#000000; stroke:none; fill-opacity:1\" cx=\"986.448\" cy=\"379.081\" r=\"18\"/>\n",
       "<circle clip-path=\"url(#clip6403)\" style=\"fill:#009af9; stroke:none; fill-opacity:1\" cx=\"986.448\" cy=\"379.081\" r=\"14\"/>\n",
       "<circle clip-path=\"url(#clip6403)\" style=\"fill:#000000; stroke:none; fill-opacity:1\" cx=\"1048.64\" cy=\"465.384\" r=\"18\"/>\n",
       "<circle clip-path=\"url(#clip6403)\" style=\"fill:#009af9; stroke:none; fill-opacity:1\" cx=\"1048.64\" cy=\"465.384\" r=\"14\"/>\n",
       "<circle clip-path=\"url(#clip6403)\" style=\"fill:#000000; stroke:none; fill-opacity:1\" cx=\"1110.82\" cy=\"551.688\" r=\"18\"/>\n",
       "<circle clip-path=\"url(#clip6403)\" style=\"fill:#009af9; stroke:none; fill-opacity:1\" cx=\"1110.82\" cy=\"551.688\" r=\"14\"/>\n",
       "<circle clip-path=\"url(#clip6403)\" style=\"fill:#000000; stroke:none; fill-opacity:1\" cx=\"1173.01\" cy=\"637.991\" r=\"18\"/>\n",
       "<circle clip-path=\"url(#clip6403)\" style=\"fill:#009af9; stroke:none; fill-opacity:1\" cx=\"1173.01\" cy=\"637.991\" r=\"14\"/>\n",
       "<circle clip-path=\"url(#clip6403)\" style=\"fill:#000000; stroke:none; fill-opacity:1\" cx=\"1235.2\" cy=\"724.295\" r=\"18\"/>\n",
       "<circle clip-path=\"url(#clip6403)\" style=\"fill:#009af9; stroke:none; fill-opacity:1\" cx=\"1235.2\" cy=\"724.295\" r=\"14\"/>\n",
       "<circle clip-path=\"url(#clip6403)\" style=\"fill:#000000; stroke:none; fill-opacity:1\" cx=\"1297.38\" cy=\"810.598\" r=\"18\"/>\n",
       "<circle clip-path=\"url(#clip6403)\" style=\"fill:#009af9; stroke:none; fill-opacity:1\" cx=\"1297.38\" cy=\"810.598\" r=\"14\"/>\n",
       "<circle clip-path=\"url(#clip6403)\" style=\"fill:#000000; stroke:none; fill-opacity:1\" cx=\"1359.57\" cy=\"896.902\" r=\"18\"/>\n",
       "<circle clip-path=\"url(#clip6403)\" style=\"fill:#009af9; stroke:none; fill-opacity:1\" cx=\"1359.57\" cy=\"896.902\" r=\"14\"/>\n",
       "<circle clip-path=\"url(#clip6403)\" style=\"fill:#000000; stroke:none; fill-opacity:1\" cx=\"1421.76\" cy=\"983.205\" r=\"18\"/>\n",
       "<circle clip-path=\"url(#clip6403)\" style=\"fill:#009af9; stroke:none; fill-opacity:1\" cx=\"1421.76\" cy=\"983.205\" r=\"14\"/>\n",
       "<circle clip-path=\"url(#clip6403)\" style=\"fill:#000000; stroke:none; fill-opacity:1\" cx=\"1483.95\" cy=\"1069.51\" r=\"18\"/>\n",
       "<circle clip-path=\"url(#clip6403)\" style=\"fill:#009af9; stroke:none; fill-opacity:1\" cx=\"1483.95\" cy=\"1069.51\" r=\"14\"/>\n",
       "</svg>\n"
      ]
     },
     "execution_count": 22,
     "metadata": {},
     "output_type": "execute_result"
    }
   ],
   "source": [
    "using Plots; default(size = (400,300), legend = :none)\n",
    "\n",
    "# compute_output(net, x) performs net(x)\n",
    "import NeuralVerification.compute_output \n",
    "\n",
    "domain = -10:10\n",
    "y = [compute_output(net, x)[1] for x in domain]\n",
    "scatter(domain, y)"
   ]
  },
  {
   "cell_type": "markdown",
   "metadata": {},
   "source": [
    "### Input/Output Sets, `Problem`s, and `Result`s\n",
    "\n",
    "Obviously this network is very simple, and verification of any property of it can be done simply with pencil and paper, but we will carry on with the example!\n",
    "\n",
    "Suppose from the scatterplot above we guess that all outputs in the domain $X = [-10, 10]$ lie between $Y = [-20, -270]$. We can encode that property and attempt to falsify it using a wide range of algorithms. We can declare the two sets of interest and construct a `Problem` instance. Then we can use any algorithm in the library (that supports Hyperrectangles in this case) to test the property."
   ]
  },
  {
   "cell_type": "code",
   "execution_count": 5,
   "metadata": {},
   "outputs": [
    {
     "data": {
      "text/plain": [
       "ReachabilityResult(:violated, HPolytope[HPolytope{Float64}(HalfSpace{Float64}[HalfSpace{Float64}([1.0], -11.5), HalfSpace{Float64}([-1.0], 11.5)]), HPolytope{Float64}(HalfSpace{Float64}[HalfSpace{Float64}([1.0], -11.5), HalfSpace{Float64}([-1.0], 11.5)]), HPolytope{Float64}(HalfSpace{Float64}[HalfSpace{Float64}([1.0], -11.5), HalfSpace{Float64}([-1.0], 11.5)]), HPolytope{Float64}(HalfSpace{Float64}[HalfSpace{Float64}([1.0], -11.5), HalfSpace{Float64}([-1.0], 287.5)])])"
      ]
     },
     "execution_count": 5,
     "metadata": {},
     "output_type": "execute_result"
    }
   ],
   "source": [
    "X = Hyperrectangle(low = [-10.0], high = [10.0])\n",
    "Y = Hyperrectangle(low = [-270.0], high = [-20.0])\n",
    "\n",
    "prob = Problem(net, X, Y)\n",
    "\n",
    "res = solve(ExactReach(), prob)"
   ]
  },
  {
   "cell_type": "markdown",
   "metadata": {},
   "source": [
    "Using ExactReach, we get a `ReachabilityResult` indicating that the property is violated. When this happens, we also get the computed reachable set to inspect. In the printout of the subsets below, we see that each `HPolytope` consists of two `HalfSpaces` that differ by a minus sign. In fact, that constraint each of those `HPolytope`s to a single point. The final `HPolytope` is the only exception, and it is an interval. \n",
    "\n",
    "Since our guess was wrong, we should probably look at the reachable set. We can use the `LazySets` function `vertices_list` to get some 1D y-values to plot with and visualize the interval. The plotting in this problem is merely for demonstration; most neural networks don't necessarily have a visual interpretation. In [another example](visualverification.ipynb), we look at sets that are more interesting than intervals."
   ]
  },
  {
   "cell_type": "code",
   "execution_count": 6,
   "metadata": {},
   "outputs": [
    {
     "data": {
      "text/plain": [
       ":violated"
      ]
     },
     "execution_count": 6,
     "metadata": {},
     "output_type": "execute_result"
    }
   ],
   "source": [
    "res.status"
   ]
  },
  {
   "cell_type": "code",
   "execution_count": 7,
   "metadata": {},
   "outputs": [
    {
     "data": {
      "text/plain": [
       "4-element Array{HPolytope,1}:\n",
       " HPolytope{Float64}(HalfSpace{Float64}[HalfSpace{Float64}([1.0], -11.5), HalfSpace{Float64}([-1.0], 11.5)]) \n",
       " HPolytope{Float64}(HalfSpace{Float64}[HalfSpace{Float64}([1.0], -11.5), HalfSpace{Float64}([-1.0], 11.5)]) \n",
       " HPolytope{Float64}(HalfSpace{Float64}[HalfSpace{Float64}([1.0], -11.5), HalfSpace{Float64}([-1.0], 11.5)]) \n",
       " HPolytope{Float64}(HalfSpace{Float64}[HalfSpace{Float64}([1.0], -11.5), HalfSpace{Float64}([-1.0], 287.5)])"
      ]
     },
     "execution_count": 7,
     "metadata": {},
     "output_type": "execute_result"
    }
   ],
   "source": [
    "res.reachable"
   ]
  },
  {
   "cell_type": "code",
   "execution_count": 8,
   "metadata": {},
   "outputs": [
    {
     "data": {
      "text/plain": [
       "4-element Array{Array{Array{Float64,1},1},1}:\n",
       " [[-11.5]]          \n",
       " [[-11.5]]          \n",
       " [[-11.5]]          \n",
       " [[-11.5], [-287.5]]"
      ]
     },
     "execution_count": 8,
     "metadata": {},
     "output_type": "execute_result"
    }
   ],
   "source": [
    "verts = vertices_list.(res.reachable)"
   ]
  },
  {
   "cell_type": "code",
   "execution_count": 9,
   "metadata": {},
   "outputs": [
    {
     "data": {
      "image/svg+xml": [
       "<?xml version=\"1.0\" encoding=\"utf-8\"?>\n",
       "<svg xmlns=\"http://www.w3.org/2000/svg\" xmlns:xlink=\"http://www.w3.org/1999/xlink\" width=\"400\" height=\"300\" viewBox=\"0 0 1600 1200\">\n",
       "<defs>\n",
       "  <clipPath id=\"clip5800\">\n",
       "    <rect x=\"0\" y=\"0\" width=\"2000\" height=\"2000\"/>\n",
       "  </clipPath>\n",
       "</defs>\n",
       "<defs>\n",
       "  <clipPath id=\"clip5801\">\n",
       "    <rect x=\"0\" y=\"0\" width=\"1600\" height=\"1200\"/>\n",
       "  </clipPath>\n",
       "</defs>\n",
       "<polygon clip-path=\"url(#clip5801)\" points=\"\n",
       "0,1200 1600,1200 1600,0 0,0 \n",
       "  \" fill=\"#ffffff\" fill-rule=\"evenodd\" fill-opacity=\"1\"/>\n",
       "<defs>\n",
       "  <clipPath id=\"clip5802\">\n",
       "    <rect x=\"320\" y=\"0\" width=\"1121\" height=\"1121\"/>\n",
       "  </clipPath>\n",
       "</defs>\n",
       "<polygon clip-path=\"url(#clip5801)\" points=\"\n",
       "202.885,1099.28 1521.26,1099.28 1521.26,47.2441 202.885,47.2441 \n",
       "  \" fill=\"#ffffff\" fill-rule=\"evenodd\" fill-opacity=\"1\"/>\n",
       "<defs>\n",
       "  <clipPath id=\"clip5803\">\n",
       "    <rect x=\"202\" y=\"47\" width=\"1319\" height=\"1053\"/>\n",
       "  </clipPath>\n",
       "</defs>\n",
       "<polyline clip-path=\"url(#clip5803)\" style=\"stroke:#000000; stroke-width:2; stroke-opacity:0.1; fill:none\" points=\"\n",
       "  202.885,1099.28 202.885,47.2441 \n",
       "  \"/>\n",
       "<polyline clip-path=\"url(#clip5803)\" style=\"stroke:#000000; stroke-width:2; stroke-opacity:0.1; fill:none\" points=\"\n",
       "  532.479,1099.28 532.479,47.2441 \n",
       "  \"/>\n",
       "<polyline clip-path=\"url(#clip5803)\" style=\"stroke:#000000; stroke-width:2; stroke-opacity:0.1; fill:none\" points=\"\n",
       "  862.073,1099.28 862.073,47.2441 \n",
       "  \"/>\n",
       "<polyline clip-path=\"url(#clip5803)\" style=\"stroke:#000000; stroke-width:2; stroke-opacity:0.1; fill:none\" points=\"\n",
       "  1191.67,1099.28 1191.67,47.2441 \n",
       "  \"/>\n",
       "<polyline clip-path=\"url(#clip5803)\" style=\"stroke:#000000; stroke-width:2; stroke-opacity:0.1; fill:none\" points=\"\n",
       "  1521.26,1099.28 1521.26,47.2441 \n",
       "  \"/>\n",
       "<polyline clip-path=\"url(#clip5803)\" style=\"stroke:#000000; stroke-width:2; stroke-opacity:0.1; fill:none\" points=\"\n",
       "  202.885,934.659 1521.26,934.659 \n",
       "  \"/>\n",
       "<polyline clip-path=\"url(#clip5803)\" style=\"stroke:#000000; stroke-width:2; stroke-opacity:0.1; fill:none\" points=\"\n",
       "  202.885,754.86 1521.26,754.86 \n",
       "  \"/>\n",
       "<polyline clip-path=\"url(#clip5803)\" style=\"stroke:#000000; stroke-width:2; stroke-opacity:0.1; fill:none\" points=\"\n",
       "  202.885,575.062 1521.26,575.062 \n",
       "  \"/>\n",
       "<polyline clip-path=\"url(#clip5803)\" style=\"stroke:#000000; stroke-width:2; stroke-opacity:0.1; fill:none\" points=\"\n",
       "  202.885,395.263 1521.26,395.263 \n",
       "  \"/>\n",
       "<polyline clip-path=\"url(#clip5803)\" style=\"stroke:#000000; stroke-width:2; stroke-opacity:0.1; fill:none\" points=\"\n",
       "  202.885,215.464 1521.26,215.464 \n",
       "  \"/>\n",
       "<polyline clip-path=\"url(#clip5801)\" style=\"stroke:#000000; stroke-width:4; stroke-opacity:1; fill:none\" points=\"\n",
       "  202.885,1099.28 1521.26,1099.28 \n",
       "  \"/>\n",
       "<polyline clip-path=\"url(#clip5801)\" style=\"stroke:#000000; stroke-width:4; stroke-opacity:1; fill:none\" points=\"\n",
       "  202.885,1099.28 202.885,47.2441 \n",
       "  \"/>\n",
       "<polyline clip-path=\"url(#clip5801)\" style=\"stroke:#000000; stroke-width:4; stroke-opacity:1; fill:none\" points=\"\n",
       "  202.885,1099.28 202.885,1083.5 \n",
       "  \"/>\n",
       "<polyline clip-path=\"url(#clip5801)\" style=\"stroke:#000000; stroke-width:4; stroke-opacity:1; fill:none\" points=\"\n",
       "  532.479,1099.28 532.479,1083.5 \n",
       "  \"/>\n",
       "<polyline clip-path=\"url(#clip5801)\" style=\"stroke:#000000; stroke-width:4; stroke-opacity:1; fill:none\" points=\"\n",
       "  862.073,1099.28 862.073,1083.5 \n",
       "  \"/>\n",
       "<polyline clip-path=\"url(#clip5801)\" style=\"stroke:#000000; stroke-width:4; stroke-opacity:1; fill:none\" points=\"\n",
       "  1191.67,1099.28 1191.67,1083.5 \n",
       "  \"/>\n",
       "<polyline clip-path=\"url(#clip5801)\" style=\"stroke:#000000; stroke-width:4; stroke-opacity:1; fill:none\" points=\"\n",
       "  1521.26,1099.28 1521.26,1083.5 \n",
       "  \"/>\n",
       "<polyline clip-path=\"url(#clip5801)\" style=\"stroke:#000000; stroke-width:4; stroke-opacity:1; fill:none\" points=\"\n",
       "  202.885,934.659 222.661,934.659 \n",
       "  \"/>\n",
       "<polyline clip-path=\"url(#clip5801)\" style=\"stroke:#000000; stroke-width:4; stroke-opacity:1; fill:none\" points=\"\n",
       "  202.885,754.86 222.661,754.86 \n",
       "  \"/>\n",
       "<polyline clip-path=\"url(#clip5801)\" style=\"stroke:#000000; stroke-width:4; stroke-opacity:1; fill:none\" points=\"\n",
       "  202.885,575.062 222.661,575.062 \n",
       "  \"/>\n",
       "<polyline clip-path=\"url(#clip5801)\" style=\"stroke:#000000; stroke-width:4; stroke-opacity:1; fill:none\" points=\"\n",
       "  202.885,395.263 222.661,395.263 \n",
       "  \"/>\n",
       "<polyline clip-path=\"url(#clip5801)\" style=\"stroke:#000000; stroke-width:4; stroke-opacity:1; fill:none\" points=\"\n",
       "  202.885,215.464 222.661,215.464 \n",
       "  \"/>\n",
       "<g clip-path=\"url(#clip5801)\">\n",
       "<text style=\"fill:#000000; fill-opacity:1; font-family:Arial,Helvetica Neue,Helvetica,sans-serif; font-size:48px; text-anchor:middle;\" transform=\"rotate(0, 202.885, 1149.28)\" x=\"202.885\" y=\"1149.28\">-1.0</text>\n",
       "</g>\n",
       "<g clip-path=\"url(#clip5801)\">\n",
       "<text style=\"fill:#000000; fill-opacity:1; font-family:Arial,Helvetica Neue,Helvetica,sans-serif; font-size:48px; text-anchor:middle;\" transform=\"rotate(0, 532.479, 1149.28)\" x=\"532.479\" y=\"1149.28\">-0.5</text>\n",
       "</g>\n",
       "<g clip-path=\"url(#clip5801)\">\n",
       "<text style=\"fill:#000000; fill-opacity:1; font-family:Arial,Helvetica Neue,Helvetica,sans-serif; font-size:48px; text-anchor:middle;\" transform=\"rotate(0, 862.073, 1149.28)\" x=\"862.073\" y=\"1149.28\">0.0</text>\n",
       "</g>\n",
       "<g clip-path=\"url(#clip5801)\">\n",
       "<text style=\"fill:#000000; fill-opacity:1; font-family:Arial,Helvetica Neue,Helvetica,sans-serif; font-size:48px; text-anchor:middle;\" transform=\"rotate(0, 1191.67, 1149.28)\" x=\"1191.67\" y=\"1149.28\">0.5</text>\n",
       "</g>\n",
       "<g clip-path=\"url(#clip5801)\">\n",
       "<text style=\"fill:#000000; fill-opacity:1; font-family:Arial,Helvetica Neue,Helvetica,sans-serif; font-size:48px; text-anchor:middle;\" transform=\"rotate(0, 1521.26, 1149.28)\" x=\"1521.26\" y=\"1149.28\">1.0</text>\n",
       "</g>\n",
       "<g clip-path=\"url(#clip5801)\">\n",
       "<text style=\"fill:#000000; fill-opacity:1; font-family:Arial,Helvetica Neue,Helvetica,sans-serif; font-size:48px; text-anchor:end;\" transform=\"rotate(0, 186.885, 952.159)\" x=\"186.885\" y=\"952.159\">-250</text>\n",
       "</g>\n",
       "<g clip-path=\"url(#clip5801)\">\n",
       "<text style=\"fill:#000000; fill-opacity:1; font-family:Arial,Helvetica Neue,Helvetica,sans-serif; font-size:48px; text-anchor:end;\" transform=\"rotate(0, 186.885, 772.36)\" x=\"186.885\" y=\"772.36\">-200</text>\n",
       "</g>\n",
       "<g clip-path=\"url(#clip5801)\">\n",
       "<text style=\"fill:#000000; fill-opacity:1; font-family:Arial,Helvetica Neue,Helvetica,sans-serif; font-size:48px; text-anchor:end;\" transform=\"rotate(0, 186.885, 592.562)\" x=\"186.885\" y=\"592.562\">-150</text>\n",
       "</g>\n",
       "<g clip-path=\"url(#clip5801)\">\n",
       "<text style=\"fill:#000000; fill-opacity:1; font-family:Arial,Helvetica Neue,Helvetica,sans-serif; font-size:48px; text-anchor:end;\" transform=\"rotate(0, 186.885, 412.763)\" x=\"186.885\" y=\"412.763\">-100</text>\n",
       "</g>\n",
       "<g clip-path=\"url(#clip5801)\">\n",
       "<text style=\"fill:#000000; fill-opacity:1; font-family:Arial,Helvetica Neue,Helvetica,sans-serif; font-size:48px; text-anchor:end;\" transform=\"rotate(0, 186.885, 232.964)\" x=\"186.885\" y=\"232.964\">-50</text>\n",
       "</g>\n",
       "<polyline clip-path=\"url(#clip5803)\" style=\"stroke:#009af9; stroke-width:4; stroke-opacity:1; fill:none\" points=\"\n",
       "  862.073,77.0188 862.073,77.0188 862.073,1069.51 \n",
       "  \"/>\n",
       "<circle clip-path=\"url(#clip5803)\" style=\"fill:#000000; stroke:none; fill-opacity:1\" cx=\"862.073\" cy=\"77.0188\" r=\"18\"/>\n",
       "<circle clip-path=\"url(#clip5803)\" style=\"fill:#e26f46; stroke:none; fill-opacity:1\" cx=\"862.073\" cy=\"77.0188\" r=\"14\"/>\n",
       "<circle clip-path=\"url(#clip5803)\" style=\"fill:#000000; stroke:none; fill-opacity:1\" cx=\"862.073\" cy=\"77.0188\" r=\"18\"/>\n",
       "<circle clip-path=\"url(#clip5803)\" style=\"fill:#e26f46; stroke:none; fill-opacity:1\" cx=\"862.073\" cy=\"77.0188\" r=\"14\"/>\n",
       "<circle clip-path=\"url(#clip5803)\" style=\"fill:#000000; stroke:none; fill-opacity:1\" cx=\"862.073\" cy=\"77.0188\" r=\"18\"/>\n",
       "<circle clip-path=\"url(#clip5803)\" style=\"fill:#e26f46; stroke:none; fill-opacity:1\" cx=\"862.073\" cy=\"77.0188\" r=\"14\"/>\n",
       "<circle clip-path=\"url(#clip5803)\" style=\"fill:#000000; stroke:none; fill-opacity:1\" cx=\"862.073\" cy=\"77.0188\" r=\"18\"/>\n",
       "<circle clip-path=\"url(#clip5803)\" style=\"fill:#e26f46; stroke:none; fill-opacity:1\" cx=\"862.073\" cy=\"77.0188\" r=\"14\"/>\n",
       "<circle clip-path=\"url(#clip5803)\" style=\"fill:#000000; stroke:none; fill-opacity:1\" cx=\"862.073\" cy=\"1069.51\" r=\"18\"/>\n",
       "<circle clip-path=\"url(#clip5803)\" style=\"fill:#e26f46; stroke:none; fill-opacity:1\" cx=\"862.073\" cy=\"1069.51\" r=\"14\"/>\n",
       "</svg>\n"
      ]
     },
     "execution_count": 9,
     "metadata": {},
     "output_type": "execute_result"
    }
   ],
   "source": [
    "verts = reduce(vcat, reduce(vcat, verts)) # reduce an array of arrays of arrays into just an array.\n",
    "\n",
    "# embed the vertices into two dimensions (setting x₁ = 0) so we can plot the interval\n",
    "verts2d = collect(zip(zeros(length(verts)), verts))\n",
    "\n",
    "plot(verts2d, seriestype = [:line, :scatter], xlim = (-1, 1))"
   ]
  },
  {
   "cell_type": "markdown",
   "metadata": {},
   "source": [
    "Cool.\n",
    "\n",
    "### More Solvers\n",
    "\n",
    "We've seen reachability analysis, but let's now try an algorithm that uses a different approach. Optimization based methods encode the relations in the network as an optimization problem (often convexifying the activation function in some fashion).\n",
    "\n",
    "In most of these algorithms, the output set relation is \"negated\" in then encoding, such that what is ultimately encoded is the complement of the provided set. Essentially, rather than checking if the output is in $Y$ the optimization/feasibility problem checks if the output is not-in-$Y_c$. For these algorithms, $Y$ must be the complement of a convex set so that the resulting optimization problem is convex. We provide the `PolytopeComplement` type and the `complement` function to construct such sets. \n",
    "\n",
    "Below, we declare the set $Y_c$, the complement of the desired output set, to be the set $Y_c = \\{y \\mid y \\geq -12\\}$. $Y$, the complement of $Y_c$, is therefore $Y = \\{y \\mid y \\leq -12\\}$. We then use `NSVerify`, an optimization-based solver, to check if this property holds (it does not, clearly)."
   ]
  },
  {
   "cell_type": "code",
   "execution_count": 10,
   "metadata": {},
   "outputs": [
    {
     "data": {
      "text/plain": [
       "PolytopeComplement of:\n",
       "  HPolytope{Float64}(HalfSpace{Float64}[HalfSpace{Float64}([-1.0], 12.0)])\n"
      ]
     },
     "execution_count": 10,
     "metadata": {},
     "output_type": "execute_result"
    }
   ],
   "source": [
    "Yc = HPolytope(reshape([-1.0], 1, 1), [12.0])\n",
    "Y = complement(Yc)"
   ]
  },
  {
   "cell_type": "code",
   "execution_count": 11,
   "metadata": {},
   "outputs": [
    {
     "data": {
      "text/plain": [
       "CounterExampleResult(:violated, [-1.5])"
      ]
     },
     "execution_count": 11,
     "metadata": {},
     "output_type": "execute_result"
    }
   ],
   "source": [
    "prob = Problem(net, X, Y)\n",
    "res = solve(NSVerify(), prob)"
   ]
  },
  {
   "cell_type": "markdown",
   "metadata": {},
   "source": [
    "Optimization methods do not return `ReachabilityResult`s. Instead, `NSVerify` returned a `CounterExampleResult`, again indicating that the property is violated and returning a counter-example. Calling up the documentation for `CounterExampleResult` with `?`, we can see the second field is called `counter_example`."
   ]
  },
  {
   "cell_type": "code",
   "execution_count": 12,
   "metadata": {},
   "outputs": [
    {
     "name": "stdout",
     "output_type": "stream",
     "text": [
      "search: \u001b[0m\u001b[1mC\u001b[22m\u001b[0m\u001b[1mo\u001b[22m\u001b[0m\u001b[1mu\u001b[22m\u001b[0m\u001b[1mn\u001b[22m\u001b[0m\u001b[1mt\u001b[22m\u001b[0m\u001b[1me\u001b[22m\u001b[0m\u001b[1mr\u001b[22m\u001b[0m\u001b[1mE\u001b[22m\u001b[0m\u001b[1mx\u001b[22m\u001b[0m\u001b[1ma\u001b[22m\u001b[0m\u001b[1mm\u001b[22m\u001b[0m\u001b[1mp\u001b[22m\u001b[0m\u001b[1ml\u001b[22m\u001b[0m\u001b[1me\u001b[22m\u001b[0m\u001b[1mR\u001b[22m\u001b[0m\u001b[1me\u001b[22m\u001b[0m\u001b[1ms\u001b[22m\u001b[0m\u001b[1mu\u001b[22m\u001b[0m\u001b[1ml\u001b[22m\u001b[0m\u001b[1mt\u001b[22m\n",
      "\n"
     ]
    },
    {
     "data": {
      "text/latex": [
       "\\begin{verbatim}\n",
       "CounterExampleResult(status, counter_example)\n",
       "\\end{verbatim}\n",
       "Like \\texttt{BasicResult}, but also returns a \\texttt{counter\\_example} if one is found (if status = :violated). The \\texttt{counter\\_example} is a point in the input set that, after the NN, lies outside the output set.\n",
       "\n"
      ],
      "text/markdown": [
       "```\n",
       "CounterExampleResult(status, counter_example)\n",
       "```\n",
       "\n",
       "Like `BasicResult`, but also returns a `counter_example` if one is found (if status = :violated). The `counter_example` is a point in the input set that, after the NN, lies outside the output set.\n"
      ],
      "text/plain": [
       "\u001b[36m  CounterExampleResult(status, counter_example)\u001b[39m\n",
       "\n",
       "  Like \u001b[36mBasicResult\u001b[39m, but also returns a \u001b[36mcounter_example\u001b[39m if one is found (if\n",
       "  status = :violated). The \u001b[36mcounter_example\u001b[39m is a point in the input set that,\n",
       "  after the NN, lies outside the output set."
      ]
     },
     "execution_count": 12,
     "metadata": {},
     "output_type": "execute_result"
    }
   ],
   "source": [
    "?CounterExampleResult"
   ]
  },
  {
   "cell_type": "code",
   "execution_count": 13,
   "metadata": {},
   "outputs": [
    {
     "data": {
      "text/plain": [
       "1-element Array{Float64,1}:\n",
       " -11.5"
      ]
     },
     "execution_count": 13,
     "metadata": {},
     "output_type": "execute_result"
    }
   ],
   "source": [
    "compute_output(net, res.counter_example)"
   ]
  },
  {
   "cell_type": "markdown",
   "metadata": {},
   "source": [
    "Plugging in our new counter-example, we find that indeed, $f(x) = -11.5 \\geq -12$, so the property is truly violated. This is worth noting, since algorithms which are not complete may sometimes return an acceptable point is a counter-example due to their convexification of the network encoding.\n",
    "\n",
    "### :holds\n",
    "\n",
    "So far we have only looked at violated properties. For the sake of completeness, if we encode a property we know holds, such as $Y = \\{y \\mid y \\leq -10 \\}$ and again solve the property with `NSVerify`, we see that it holds."
   ]
  },
  {
   "cell_type": "code",
   "execution_count": 14,
   "metadata": {},
   "outputs": [
    {
     "data": {
      "text/plain": [
       "CounterExampleResult(:holds, Float64[])"
      ]
     },
     "execution_count": 14,
     "metadata": {},
     "output_type": "execute_result"
    }
   ],
   "source": [
    "Yc = HPolytope(reshape([-1.0], 1, 1), [10.0])\n",
    "Y = complement(Yc)\n",
    "prob = Problem(net, X, Y)\n",
    "res = solve(NSVerify(), prob)"
   ]
  },
  {
   "cell_type": "markdown",
   "metadata": {},
   "source": [
    "Two other types of `Result`s are possible, `BasicResult`, which only states `:holds` or `:violated`, and `AdversarialResult` which gives a perturbation radius in the input domain."
   ]
  },
  {
   "cell_type": "code",
   "execution_count": 15,
   "metadata": {},
   "outputs": [
    {
     "data": {
      "text/plain": [
       "AdversarialResult(:violated, 1.09375)"
      ]
     },
     "execution_count": 15,
     "metadata": {},
     "output_type": "execute_result"
    }
   ],
   "source": [
    "X = Hyperrectangle(low = [-10.0], high = [10.0])\n",
    "Y = Hyperrectangle(low = [-270.0], high = [-20.0]);\n",
    "prob = Problem(net, X, Y)\n",
    "\n",
    "res = solve(FastLin(), prob)"
   ]
  },
  {
   "cell_type": "markdown",
   "metadata": {},
   "source": [
    "### Docs\n",
    "\n",
    "We can pull up the documentation for any function in `NeuralVerification.jl` interactively such as here, or in the [online documentation](https://sisl.github.io/NeuralVerification.jl/latest/) to read about our implementation of each algorithm, determine appropriate input/output types, or find references to the original papers describing each method."
   ]
  },
  {
   "cell_type": "code",
   "execution_count": 16,
   "metadata": {},
   "outputs": [
    {
     "data": {
      "text/html": [
       "18 methods for generic function <b>solve</b>:<ul><li> solve(m::<b>JuMP.Model</b>; <i>kwargs...</i>) in NeuralVerification at <a href=\"https://github.com/sisl/NeuralVerification.jl/tree/a838062f86d28041f9d111d7f0bf4742b9b95968//src/NeuralVerification.jl#L57\" target=\"_blank\">/Users/tomer/.julia/dev/NeuralVerification/src/NeuralVerification.jl:57</a></li> <li> solve(solver::<b>NSVerify</b>, problem::<b>Problem</b>) in NeuralVerification at <a href=\"https://github.com/sisl/NeuralVerification.jl/tree/a838062f86d28041f9d111d7f0bf4742b9b95968//src/optimization/nsVerify.jl#L32\" target=\"_blank\">/Users/tomer/.julia/dev/NeuralVerification/src/optimization/nsVerify.jl:32</a></li> <li> solve(solver::<b>ConvDual</b>, problem::<b>Problem</b>) in NeuralVerification at <a href=\"https://github.com/sisl/NeuralVerification.jl/tree/a838062f86d28041f9d111d7f0bf4742b9b95968//src/optimization/convDual.jl#L29\" target=\"_blank\">/Users/tomer/.julia/dev/NeuralVerification/src/optimization/convDual.jl:29</a></li> <li> solve(solver::<b>Duality</b>, problem::<b>Problem</b>) in NeuralVerification at <a href=\"https://github.com/sisl/NeuralVerification.jl/tree/a838062f86d28041f9d111d7f0bf4742b9b95968//src/optimization/duality.jl#L34\" target=\"_blank\">/Users/tomer/.julia/dev/NeuralVerification/src/optimization/duality.jl:34</a></li> <li> solve(solver::<b>Certify</b>, problem::<b>Problem</b>) in NeuralVerification at <a href=\"https://github.com/sisl/NeuralVerification.jl/tree/a838062f86d28041f9d111d7f0bf4742b9b95968//src/optimization/certify.jl#L34\" target=\"_blank\">/Users/tomer/.julia/dev/NeuralVerification/src/optimization/certify.jl:34</a></li> <li> solve(solver::<b>ILP</b>, problem::<b>Problem</b>) in NeuralVerification at <a href=\"https://github.com/sisl/NeuralVerification.jl/tree/a838062f86d28041f9d111d7f0bf4742b9b95968//src/optimization/iLP.jl#L36\" target=\"_blank\">/Users/tomer/.julia/dev/NeuralVerification/src/optimization/iLP.jl:36</a></li> <li> solve(solver::<b>MIPVerify</b>, problem::<b>Problem</b>) in NeuralVerification at <a href=\"https://github.com/sisl/NeuralVerification.jl/tree/a838062f86d28041f9d111d7f0bf4742b9b95968//src/optimization/mipVerify.jl#L34\" target=\"_blank\">/Users/tomer/.julia/dev/NeuralVerification/src/optimization/mipVerify.jl:34</a></li> <li> solve(solver::<b>ExactReach</b>, problem::<b>Problem</b>) in NeuralVerification at <a href=\"https://github.com/sisl/NeuralVerification.jl/tree/a838062f86d28041f9d111d7f0bf4742b9b95968//src/reachability/exactReach.jl#L28\" target=\"_blank\">/Users/tomer/.julia/dev/NeuralVerification/src/reachability/exactReach.jl:28</a></li> <li> solve(solver::<b>MaxSens</b>, problem::<b>Problem</b>) in NeuralVerification at <a href=\"https://github.com/sisl/NeuralVerification.jl/tree/a838062f86d28041f9d111d7f0bf4742b9b95968//src/reachability/maxSens.jl#L35\" target=\"_blank\">/Users/tomer/.julia/dev/NeuralVerification/src/reachability/maxSens.jl:35</a></li> <li> solve(solver::<b>Ai2</b>, problem::<b>Problem</b>) in NeuralVerification at <a href=\"https://github.com/sisl/NeuralVerification.jl/tree/a838062f86d28041f9d111d7f0bf4742b9b95968//src/reachability/ai2.jl#L28\" target=\"_blank\">/Users/tomer/.julia/dev/NeuralVerification/src/reachability/ai2.jl:28</a></li> <li> solve(solver::<b>BaB</b>, problem::<b>Problem</b>) in NeuralVerification at <a href=\"https://github.com/sisl/NeuralVerification.jl/tree/a838062f86d28041f9d111d7f0bf4742b9b95968//src/satisfiability/bab.jl#L35\" target=\"_blank\">/Users/tomer/.julia/dev/NeuralVerification/src/satisfiability/bab.jl:35</a></li> <li> solve(solver::<b>Planet</b>, problem::<b>Problem</b>) in NeuralVerification at <a href=\"https://github.com/sisl/NeuralVerification.jl/tree/a838062f86d28041f9d111d7f0bf4742b9b95968//src/satisfiability/planet.jl#L34\" target=\"_blank\">/Users/tomer/.julia/dev/NeuralVerification/src/satisfiability/planet.jl:34</a></li> <li> solve(solver::<b>Sherlock</b>, problem::<b>Problem</b>) in NeuralVerification at <a href=\"https://github.com/sisl/NeuralVerification.jl/tree/a838062f86d28041f9d111d7f0bf4742b9b95968//src/satisfiability/sherlock.jl#L36\" target=\"_blank\">/Users/tomer/.julia/dev/NeuralVerification/src/satisfiability/sherlock.jl:36</a></li> <li> solve(solver::<b>Reluplex</b>, problem::<b>Problem</b>) in NeuralVerification at <a href=\"https://github.com/sisl/NeuralVerification.jl/tree/a838062f86d28041f9d111d7f0bf4742b9b95968//src/satisfiability/reluplex.jl#L30\" target=\"_blank\">/Users/tomer/.julia/dev/NeuralVerification/src/satisfiability/reluplex.jl:30</a></li> <li> solve(solver::<b>ReluVal</b>, problem::<b>Problem</b>) in NeuralVerification at <a href=\"https://github.com/sisl/NeuralVerification.jl/tree/a838062f86d28041f9d111d7f0bf4742b9b95968//src/adversarial/reluVal.jl#L50\" target=\"_blank\">/Users/tomer/.julia/dev/NeuralVerification/src/adversarial/reluVal.jl:50</a></li> <li> solve(solver::<b>FastLin</b>, problem::<b>Problem</b>) in NeuralVerification at <a href=\"https://github.com/sisl/NeuralVerification.jl/tree/a838062f86d28041f9d111d7f0bf4742b9b95968//src/adversarial/fastLin.jl#L37\" target=\"_blank\">/Users/tomer/.julia/dev/NeuralVerification/src/adversarial/fastLin.jl:37</a></li> <li> solve(solver::<b>FastLip</b>, problem::<b>Problem</b>) in NeuralVerification at <a href=\"https://github.com/sisl/NeuralVerification.jl/tree/a838062f86d28041f9d111d7f0bf4742b9b95968//src/adversarial/fastLip.jl#L38\" target=\"_blank\">/Users/tomer/.julia/dev/NeuralVerification/src/adversarial/fastLip.jl:38</a></li> <li> solve(solver::<b>DLV</b>, problem::<b>Problem</b>) in NeuralVerification at <a href=\"https://github.com/sisl/NeuralVerification.jl/tree/a838062f86d28041f9d111d7f0bf4742b9b95968//src/adversarial/dlv.jl#L43\" target=\"_blank\">/Users/tomer/.julia/dev/NeuralVerification/src/adversarial/dlv.jl:43</a></li> </ul>"
      ],
      "text/plain": [
       "# 18 methods for generic function \"solve\":\n",
       "[1] solve(m::JuMP.Model; kwargs...) in NeuralVerification at /Users/tomer/.julia/dev/NeuralVerification/src/NeuralVerification.jl:57\n",
       "[2] solve(solver::NSVerify, problem::Problem) in NeuralVerification at /Users/tomer/.julia/dev/NeuralVerification/src/optimization/nsVerify.jl:32\n",
       "[3] solve(solver::ConvDual, problem::Problem) in NeuralVerification at /Users/tomer/.julia/dev/NeuralVerification/src/optimization/convDual.jl:29\n",
       "[4] solve(solver::Duality, problem::Problem) in NeuralVerification at /Users/tomer/.julia/dev/NeuralVerification/src/optimization/duality.jl:34\n",
       "[5] solve(solver::Certify, problem::Problem) in NeuralVerification at /Users/tomer/.julia/dev/NeuralVerification/src/optimization/certify.jl:34\n",
       "[6] solve(solver::ILP, problem::Problem) in NeuralVerification at /Users/tomer/.julia/dev/NeuralVerification/src/optimization/iLP.jl:36\n",
       "[7] solve(solver::MIPVerify, problem::Problem) in NeuralVerification at /Users/tomer/.julia/dev/NeuralVerification/src/optimization/mipVerify.jl:34\n",
       "[8] solve(solver::ExactReach, problem::Problem) in NeuralVerification at /Users/tomer/.julia/dev/NeuralVerification/src/reachability/exactReach.jl:28\n",
       "[9] solve(solver::MaxSens, problem::Problem) in NeuralVerification at /Users/tomer/.julia/dev/NeuralVerification/src/reachability/maxSens.jl:35\n",
       "[10] solve(solver::Ai2, problem::Problem) in NeuralVerification at /Users/tomer/.julia/dev/NeuralVerification/src/reachability/ai2.jl:28\n",
       "[11] solve(solver::BaB, problem::Problem) in NeuralVerification at /Users/tomer/.julia/dev/NeuralVerification/src/satisfiability/bab.jl:35\n",
       "[12] solve(solver::Planet, problem::Problem) in NeuralVerification at /Users/tomer/.julia/dev/NeuralVerification/src/satisfiability/planet.jl:34\n",
       "[13] solve(solver::Sherlock, problem::Problem) in NeuralVerification at /Users/tomer/.julia/dev/NeuralVerification/src/satisfiability/sherlock.jl:36\n",
       "[14] solve(solver::Reluplex, problem::Problem) in NeuralVerification at /Users/tomer/.julia/dev/NeuralVerification/src/satisfiability/reluplex.jl:30\n",
       "[15] solve(solver::ReluVal, problem::Problem) in NeuralVerification at /Users/tomer/.julia/dev/NeuralVerification/src/adversarial/reluVal.jl:50\n",
       "[16] solve(solver::FastLin, problem::Problem) in NeuralVerification at /Users/tomer/.julia/dev/NeuralVerification/src/adversarial/fastLin.jl:37\n",
       "[17] solve(solver::FastLip, problem::Problem) in NeuralVerification at /Users/tomer/.julia/dev/NeuralVerification/src/adversarial/fastLip.jl:38\n",
       "[18] solve(solver::DLV, problem::Problem) in NeuralVerification at /Users/tomer/.julia/dev/NeuralVerification/src/adversarial/dlv.jl:43"
      ]
     },
     "execution_count": 16,
     "metadata": {},
     "output_type": "execute_result"
    }
   ],
   "source": [
    "methods(NeuralVerification.solve)"
   ]
  },
  {
   "cell_type": "code",
   "execution_count": 17,
   "metadata": {},
   "outputs": [
    {
     "name": "stdout",
     "output_type": "stream",
     "text": [
      "search: \u001b[0m\u001b[1mB\u001b[22m\u001b[0m\u001b[1ma\u001b[22m\u001b[0m\u001b[1mB\u001b[22m A\u001b[0m\u001b[1mb\u001b[22mstr\u001b[0m\u001b[1ma\u001b[22mct\u001b[0m\u001b[1mB\u001b[22mackend \u001b[0m\u001b[1mb\u001b[22m\u001b[0m\u001b[1ma\u001b[22mckend_o\u001b[0m\u001b[1mb\u001b[22mject A\u001b[0m\u001b[1mb\u001b[22mstr\u001b[0m\u001b[1ma\u001b[22mctRG\u001b[0m\u001b[1mB\u001b[22m \u001b[0m\u001b[1mb\u001b[22mytes\u001b[0m\u001b[1ma\u001b[22mvaila\u001b[0m\u001b[1mb\u001b[22mle\n",
      "\n"
     ]
    },
    {
     "data": {
      "text/latex": [
       "\\begin{verbatim}\n",
       "BaB(optimizer, ϵ::Float64)\n",
       "\\end{verbatim}\n",
       "BaB uses branch and bound to estimate the range of the output node.\n",
       "\n",
       "\\section{Problem requirement}\n",
       "\\begin{itemize}\n",
       "\\item[1. ] Network: any depth, ReLU activation, single output\n",
       "\n",
       "\n",
       "\\item[2. ] Input: hyperrectangle\n",
       "\n",
       "\n",
       "\\item[3. ] Output: hyperrectangle (1d interval)\n",
       "\n",
       "\\end{itemize}\n",
       "\\section{Return}\n",
       "\\texttt{CounterExampleResult} or \\texttt{ReachabilityResult}\n",
       "\n",
       "\\section{Method}\n",
       "Branch and bound. For branch, it uses iterative interval refinement. For bound, it computes concrete bounds by sampling, approximated bound by optimization.\n",
       "\n",
       "\\begin{itemize}\n",
       "\\item \\texttt{optimizer} default \\texttt{GLPKSolverMIP()}\n",
       "\n",
       "\n",
       "\\item \\texttt{ϵ} is the desired accurancy for termination, default \\texttt{0.1}.\n",
       "\n",
       "\\end{itemize}\n",
       "\\section{Property}\n",
       "Sound and complete.\n",
       "\n",
       "\\section{Reference}\n",
       "\\href{https://arxiv.org/abs/1711.00455}{R. Bunel, I. Turkaslan, P. H. Torr, P. Kohli, and M. P. Kumar, \"A Unified View of Piecewise Linear Neural Network Verification,\" \\emph{ArXiv Preprint ArXiv:1711.00455}, 2017.}\n",
       "\n"
      ],
      "text/markdown": [
       "```\n",
       "BaB(optimizer, ϵ::Float64)\n",
       "```\n",
       "\n",
       "BaB uses branch and bound to estimate the range of the output node.\n",
       "\n",
       "# Problem requirement\n",
       "\n",
       "1. Network: any depth, ReLU activation, single output\n",
       "2. Input: hyperrectangle\n",
       "3. Output: hyperrectangle (1d interval)\n",
       "\n",
       "# Return\n",
       "\n",
       "`CounterExampleResult` or `ReachabilityResult`\n",
       "\n",
       "# Method\n",
       "\n",
       "Branch and bound. For branch, it uses iterative interval refinement. For bound, it computes concrete bounds by sampling, approximated bound by optimization.\n",
       "\n",
       "  * `optimizer` default `GLPKSolverMIP()`\n",
       "  * `ϵ` is the desired accurancy for termination, default `0.1`.\n",
       "\n",
       "# Property\n",
       "\n",
       "Sound and complete.\n",
       "\n",
       "# Reference\n",
       "\n",
       "[R. Bunel, I. Turkaslan, P. H. Torr, P. Kohli, and M. P. Kumar, \"A Unified View of Piecewise Linear Neural Network Verification,\" *ArXiv Preprint ArXiv:1711.00455*, 2017.](https://arxiv.org/abs/1711.00455)\n"
      ],
      "text/plain": [
       "\u001b[36m  BaB(optimizer, ϵ::Float64)\u001b[39m\n",
       "\n",
       "  BaB uses branch and bound to estimate the range of the output node.\n",
       "\n",
       "\u001b[1m  Problem requirement\u001b[22m\n",
       "\u001b[1m  ≡≡≡≡≡≡≡≡≡≡≡≡≡≡≡≡≡≡≡≡≡\u001b[22m\n",
       "\n",
       "    1.   Network: any depth, ReLU activation, single output\n",
       "\n",
       "    2.   Input: hyperrectangle\n",
       "\n",
       "    3.   Output: hyperrectangle (1d interval)\n",
       "\n",
       "\u001b[1m  Return\u001b[22m\n",
       "\u001b[1m  ≡≡≡≡≡≡≡≡\u001b[22m\n",
       "\n",
       "  \u001b[36mCounterExampleResult\u001b[39m or \u001b[36mReachabilityResult\u001b[39m\n",
       "\n",
       "\u001b[1m  Method\u001b[22m\n",
       "\u001b[1m  ≡≡≡≡≡≡≡≡\u001b[22m\n",
       "\n",
       "  Branch and bound. For branch, it uses iterative interval refinement. For\n",
       "  bound, it computes concrete bounds by sampling, approximated bound by\n",
       "  optimization.\n",
       "\n",
       "    •    \u001b[36moptimizer\u001b[39m default \u001b[36mGLPKSolverMIP()\u001b[39m\n",
       "\n",
       "    •    \u001b[36mϵ\u001b[39m is the desired accurancy for termination, default \u001b[36m0.1\u001b[39m.\n",
       "\n",
       "\u001b[1m  Property\u001b[22m\n",
       "\u001b[1m  ≡≡≡≡≡≡≡≡≡≡\u001b[22m\n",
       "\n",
       "  Sound and complete.\n",
       "\n",
       "\u001b[1m  Reference\u001b[22m\n",
       "\u001b[1m  ≡≡≡≡≡≡≡≡≡≡≡\u001b[22m\n",
       "\n",
       "  R. Bunel, I. Turkaslan, P. H. Torr, P. Kohli, and M. P. Kumar, \"A Unified\n",
       "  View of Piecewise Linear Neural Network Verification,\" \u001b[4mArXiv Preprint\n",
       "  ArXiv:1711.00455\u001b[24m, 2017. (https://arxiv.org/abs/1711.00455)"
      ]
     },
     "execution_count": 17,
     "metadata": {},
     "output_type": "execute_result"
    }
   ],
   "source": [
    "?BaB"
   ]
  },
  {
   "cell_type": "code",
   "execution_count": null,
   "metadata": {},
   "outputs": [],
   "source": []
  }
 ],
 "metadata": {
  "@webio": {
   "lastCommId": null,
   "lastKernelId": null
  },
  "kernelspec": {
   "display_name": "Julia 1.0.1",
   "language": "julia",
   "name": "julia-1.0"
  },
  "language_info": {
   "file_extension": ".jl",
   "mimetype": "application/julia",
   "name": "julia",
   "version": "1.0.1"
  }
 },
 "nbformat": 4,
 "nbformat_minor": 2
}
